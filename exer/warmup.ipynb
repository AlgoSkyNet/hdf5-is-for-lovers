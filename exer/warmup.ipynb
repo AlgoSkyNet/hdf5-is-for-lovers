{
 "metadata": {
  "name": "warmup"
 },
 "nbformat": 3,
 "nbformat_minor": 0,
 "worksheets": [
  {
   "cells": [
    {
     "cell_type": "code",
     "collapsed": false,
     "input": [
      "import numpy as np\n",
      "import tables as tb\n",
      "\n",
      "f = tb.openFile('temp.h5', 'a')\n",
      "heart = np.ones(42, dtype=[('rate', int), ('beat', float)])\n",
      "f.createTable('/', 'heart', heart)\n",
      "f.close()"
     ],
     "language": "python",
     "metadata": {},
     "outputs": []
    }
   ],
   "metadata": {}
  }
 ]
}