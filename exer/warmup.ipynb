{
 "metadata": {
  "name": "",
  "signature": "sha256:9fafd87a6605f7bb83ad82ebec1cb63c573797af4e57cd5659fe83cfb211118a"
 },
 "nbformat": 3,
 "nbformat_minor": 0,
 "worksheets": [
  {
   "cells": [
    {
     "cell_type": "code",
     "collapsed": false,
     "input": [
      "import numpy as np\n",
      "import tables as tb\n",
      "\n",
      "f = tb.open_file('temp.h5', 'a')\n",
      "heart = np.ones(42, dtype=[('rate', int), ('beat', float)])\n",
      "f.create_table('/', 'heart', heart)\n",
      "f.close()"
     ],
     "language": "python",
     "metadata": {},
     "outputs": []
    }
   ],
   "metadata": {}
  }
 ]
}